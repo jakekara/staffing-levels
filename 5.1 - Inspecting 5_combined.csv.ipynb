{
 "cells": [
  {
   "cell_type": "markdown",
   "metadata": {},
   "source": [
    "## 5_combined.csv\n",
    "\n",
    "This is a combination of several data sources, including:\n",
    "\n",
    "1. Edsight for: district-level FTE Counts\n",
    "2. Fiscal indicators DB  for: Enrollment, ed spending, intergov_rev\n",
    "3. CSDE portal for: itemized grant payments\n",
    "\n",
    "## Columns\n",
    "\n",
    "* __City__ - Combined with report year, used to combine several data sets. The following cities have issues. There is more than one district in each city:\n",
    "    * DEEP RIVER \t3\n",
    "    * EASTON \t2\n",
    "    * CANAAN \t2\n",
    "* report_year - Combined with report year, used to combine several data sets\n",
    "* __FTE Count__ - Comes from edsight. Available for all districts.\n",
    "* __Teacher FTE Count__ - Comes from Edsight. Available for all districts.\n",
    "* __Counselor FTE Count__ - Comes from Edsight. Available for all districts.\n",
    "has_nulls - Marks whether there are any null values for any educator FTE categories for that city/year\n",
    "* __Education spending__ - Comes from Fiscal Indicators DB. Available for municipal districts.\n",
    "* __Inter_Gov_Rev__ - Comes from Fiscal Indicators DB. Available for municipal districts.\n",
    "* __Enrollment__ - Avg. daily enrollment. Comes from Fiscal Indicators DB. Available for municipal districts.\n",
    "* __Grant Payments__ - Comes from SEDAR Grant Payments too. Available for municipal districts.\n",
    "* __wealth_rank__ - Using 2019 rank only. Comes from DOE. Available for all districts."
   ]
  },
  {
   "cell_type": "code",
   "execution_count": 17,
   "metadata": {},
   "outputs": [],
   "source": [
    "import pandas as pd\n",
    "df = pd.read_csv(\"output/5_combined.csv\")"
   ]
  },
  {
   "cell_type": "markdown",
   "metadata": {},
   "source": [
    "# Some missing towns: RESOLVED\n",
    "\n",
    "There are some towns with no data in 5_1 combined. Why is that?\n",
    "\n",
    "NEVER MIND. Fixed in this notebook 2."
   ]
  },
  {
   "cell_type": "code",
   "execution_count": 18,
   "metadata": {},
   "outputs": [
    {
     "data": {
      "text/plain": [
       "array([], dtype=object)"
      ]
     },
     "execution_count": 18,
     "metadata": {},
     "output_type": "execute_result"
    }
   ],
   "source": [
    "good_years = range(2007,2017)\n",
    "df[(df[\"Enrollment\"].isnull()) & df[\"report_year\"].apply(lambda x: x in good_years)][\"City\"].unique()"
   ]
  },
  {
   "cell_type": "code",
   "execution_count": 31,
   "metadata": {},
   "outputs": [
    {
     "name": "stdout",
     "output_type": "stream",
     "text": [
      "Number of cities with public school district data\n"
     ]
    },
    {
     "data": {
      "text/plain": [
       "145"
      ]
     },
     "execution_count": 31,
     "metadata": {},
     "output_type": "execute_result"
    }
   ],
   "source": [
    "# How many cities are there\n",
    "print (\"Number of cities with public school district data\")\n",
    "len(df[\"City\"].unique())"
   ]
  },
  {
   "cell_type": "code",
   "execution_count": 30,
   "metadata": {},
   "outputs": [
    {
     "name": "stdout",
     "output_type": "stream",
     "text": [
      "The number of public school districts (not regional)\n",
      "149\n"
     ]
    }
   ],
   "source": [
    "def school_district_count():\n",
    "    districts = pd.read_csv(\"data/findSchoolDistrict.csv\",skiprows=1)\n",
    "    print \"The number of public school districts (not regional)\"\n",
    "    print (len(districts[districts[\"OrganizationType\"] == \"Public School Districts\"]))\n",
    "school_district_count()"
   ]
  },
  {
   "cell_type": "code",
   "execution_count": 32,
   "metadata": {},
   "outputs": [],
   "source": [
    "# That's pretty OK..."
   ]
  },
  {
   "cell_type": "code",
   "execution_count": 33,
   "metadata": {},
   "outputs": [
    {
     "name": "stdout",
     "output_type": "stream",
     "text": [
      "Number of muni districts grant payments data\n"
     ]
    },
    {
     "data": {
      "text/plain": [
       "122"
      ]
     },
     "execution_count": 33,
     "metadata": {},
     "output_type": "execute_result"
    }
   ],
   "source": [
    "print \"Number of muni districts grant payments data\"\n",
    "len(df[df[\"Grant Payments\"].notnull()][\"City\"].unique())"
   ]
  },
  {
   "cell_type": "code",
   "execution_count": 37,
   "metadata": {},
   "outputs": [
    {
     "data": {
      "text/plain": [
       "122"
      ]
     },
     "execution_count": 37,
     "metadata": {},
     "output_type": "execute_result"
    }
   ],
   "source": [
    "grants = pd.read_csv(\"output/byproduct_4_all_grants.csv\")\n",
    "len(grants[\"VName\"].unique())"
   ]
  },
  {
   "cell_type": "code",
   "execution_count": null,
   "metadata": {},
   "outputs": [],
   "source": []
  }
 ],
 "metadata": {
  "kernelspec": {
   "display_name": "Python 2",
   "language": "python",
   "name": "python2"
  },
  "language_info": {
   "codemirror_mode": {
    "name": "ipython",
    "version": 2
   },
   "file_extension": ".py",
   "mimetype": "text/x-python",
   "name": "python",
   "nbconvert_exporter": "python",
   "pygments_lexer": "ipython2",
   "version": "2.7.10"
  }
 },
 "nbformat": 4,
 "nbformat_minor": 2
}
