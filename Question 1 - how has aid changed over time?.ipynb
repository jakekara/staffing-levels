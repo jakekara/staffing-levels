{
 "cells": [
  {
   "cell_type": "markdown",
   "metadata": {},
   "source": [
    "# How has aid to towns changed over time?\n",
    "\n",
    "We can define town aid revenue many different ways, so we took two approaches. \n",
    "\n",
    "First we used all state and federal payments to towns, regardless of whether it was for schools or not. This would include all education grants, but also money that isn't for schools. The reasoning for this is that a large chunk of this money goes to schools, and money is money at the end of the day, so aid to one line item can free up resources for another.\n",
    "\n",
    "Second, we used specific grant spending for Education Equalization and an ARRA stabilization grant that bouyed that grant in 2010 and 2011. This way is much more targeted and excludes a lot of other grants, but it's the bulk of education-specific spending, and it's more stable than other types of grants, like construction, which can fluctuate a lot."
   ]
  },
  {
   "cell_type": "code",
   "execution_count": 2,
   "metadata": {},
   "outputs": [],
   "source": [
    "import pandas as pd\n",
    "import matplotlib\n",
    "matplotlib.style.use('ggplot')\n",
    "%matplotlib inline"
   ]
  },
  {
   "cell_type": "markdown",
   "metadata": {},
   "source": [
    "# Part 1: How has aid changed over time?"
   ]
  },
  {
   "cell_type": "markdown",
   "metadata": {},
   "source": [
    "### 1.1: Intergov rev, unadjusted\n",
    "\n",
    "This part looks at all aid, or \"intergovernmental revenue,\" regardless of whether it's for education."
   ]
  },
  {
   "cell_type": "code",
   "execution_count": 26,
   "metadata": {},
   "outputs": [
    {
     "name": "stdout",
     "output_type": "stream",
     "text": [
      "169\n"
     ]
    },
    {
     "data": {
      "text/html": [
       "<div>\n",
       "<style scoped>\n",
       "    .dataframe tbody tr th:only-of-type {\n",
       "        vertical-align: middle;\n",
       "    }\n",
       "\n",
       "    .dataframe tbody tr th {\n",
       "        vertical-align: top;\n",
       "    }\n",
       "\n",
       "    .dataframe thead th {\n",
       "        text-align: right;\n",
       "    }\n",
       "</style>\n",
       "<table border=\"1\" class=\"dataframe\">\n",
       "  <thead>\n",
       "    <tr style=\"text-align: right;\">\n",
       "      <th></th>\n",
       "      <th>City</th>\n",
       "      <th>report_year</th>\n",
       "      <th>Education spending</th>\n",
       "      <th>Inter_Gov_Rev</th>\n",
       "      <th>Enrollment</th>\n",
       "    </tr>\n",
       "  </thead>\n",
       "  <tbody>\n",
       "    <tr>\n",
       "      <th>0</th>\n",
       "      <td>ANDOVER</td>\n",
       "      <td>2013</td>\n",
       "      <td>8562868.0</td>\n",
       "      <td>2930349.0</td>\n",
       "      <td>588.63</td>\n",
       "    </tr>\n",
       "    <tr>\n",
       "      <th>1</th>\n",
       "      <td>ANSONIA</td>\n",
       "      <td>2013</td>\n",
       "      <td>34124712.0</td>\n",
       "      <td>29957368.0</td>\n",
       "      <td>2628.64</td>\n",
       "    </tr>\n",
       "    <tr>\n",
       "      <th>2</th>\n",
       "      <td>ASHFORD</td>\n",
       "      <td>2013</td>\n",
       "      <td>11250309.0</td>\n",
       "      <td>4953913.0</td>\n",
       "      <td>642.80</td>\n",
       "    </tr>\n",
       "    <tr>\n",
       "      <th>3</th>\n",
       "      <td>AVON</td>\n",
       "      <td>2013</td>\n",
       "      <td>53396764.0</td>\n",
       "      <td>8450231.0</td>\n",
       "      <td>3472.15</td>\n",
       "    </tr>\n",
       "    <tr>\n",
       "      <th>4</th>\n",
       "      <td>BARKHAMSTED</td>\n",
       "      <td>2013</td>\n",
       "      <td>8852107.0</td>\n",
       "      <td>2215545.0</td>\n",
       "      <td>648.78</td>\n",
       "    </tr>\n",
       "  </tbody>\n",
       "</table>\n",
       "</div>"
      ],
      "text/plain": [
       "          City  report_year  Education spending  Inter_Gov_Rev  Enrollment\n",
       "0      ANDOVER         2013           8562868.0      2930349.0      588.63\n",
       "1      ANSONIA         2013          34124712.0     29957368.0     2628.64\n",
       "2      ASHFORD         2013          11250309.0      4953913.0      642.80\n",
       "3         AVON         2013          53396764.0      8450231.0     3472.15\n",
       "4  BARKHAMSTED         2013           8852107.0      2215545.0      648.78"
      ]
     },
     "execution_count": 26,
     "metadata": {},
     "output_type": "execute_result"
    }
   ],
   "source": [
    "fisc_df = pd.read_csv(\"output/1_fiscal.csv\")\n",
    "\n",
    "# Drop Groton City because the Fiscal Indicators reports do the same \n",
    "# Those are here: https://www.ct.gov/opm/cwp/view.asp?A=2984&Q=383170\n",
    "# These data come from the databases linked there, and this makes it possible\n",
    "# to test my calculations against their statewide totals\n",
    "fisc_df = fisc_df[fisc_df[\"City\"] != \"GROTON (City of)\"]\n",
    "print (len(fisc_df[\"City\"].unique()))\n",
    "fisc_df.head()"
   ]
  },
  {
   "cell_type": "code",
   "execution_count": 27,
   "metadata": {},
   "outputs": [
    {
     "data": {
      "text/html": [
       "<div>\n",
       "<style scoped>\n",
       "    .dataframe tbody tr th:only-of-type {\n",
       "        vertical-align: middle;\n",
       "    }\n",
       "\n",
       "    .dataframe tbody tr th {\n",
       "        vertical-align: top;\n",
       "    }\n",
       "\n",
       "    .dataframe thead th {\n",
       "        text-align: right;\n",
       "    }\n",
       "</style>\n",
       "<table border=\"1\" class=\"dataframe\">\n",
       "  <thead>\n",
       "    <tr style=\"text-align: right;\">\n",
       "      <th></th>\n",
       "      <th>Inter_Gov_Rev</th>\n",
       "    </tr>\n",
       "    <tr>\n",
       "      <th>report_year</th>\n",
       "      <th></th>\n",
       "    </tr>\n",
       "  </thead>\n",
       "  <tbody>\n",
       "    <tr>\n",
       "      <th>2007</th>\n",
       "      <td>2.689554e+09</td>\n",
       "    </tr>\n",
       "    <tr>\n",
       "      <th>2008</th>\n",
       "      <td>4.237439e+09</td>\n",
       "    </tr>\n",
       "    <tr>\n",
       "      <th>2009</th>\n",
       "      <td>3.045746e+09</td>\n",
       "    </tr>\n",
       "    <tr>\n",
       "      <th>2010</th>\n",
       "      <td>2.860261e+09</td>\n",
       "    </tr>\n",
       "    <tr>\n",
       "      <th>2011</th>\n",
       "      <td>2.912219e+09</td>\n",
       "    </tr>\n",
       "    <tr>\n",
       "      <th>2012</th>\n",
       "      <td>3.233235e+09</td>\n",
       "    </tr>\n",
       "    <tr>\n",
       "      <th>2013</th>\n",
       "      <td>3.248049e+09</td>\n",
       "    </tr>\n",
       "    <tr>\n",
       "      <th>2014</th>\n",
       "      <td>3.358155e+09</td>\n",
       "    </tr>\n",
       "    <tr>\n",
       "      <th>2015</th>\n",
       "      <td>3.281546e+09</td>\n",
       "    </tr>\n",
       "    <tr>\n",
       "      <th>2016</th>\n",
       "      <td>3.326921e+09</td>\n",
       "    </tr>\n",
       "  </tbody>\n",
       "</table>\n",
       "</div>"
      ],
      "text/plain": [
       "             Inter_Gov_Rev\n",
       "report_year               \n",
       "2007          2.689554e+09\n",
       "2008          4.237439e+09\n",
       "2009          3.045746e+09\n",
       "2010          2.860261e+09\n",
       "2011          2.912219e+09\n",
       "2012          3.233235e+09\n",
       "2013          3.248049e+09\n",
       "2014          3.358155e+09\n",
       "2015          3.281546e+09\n",
       "2016          3.326921e+09"
      ]
     },
     "execution_count": 27,
     "metadata": {},
     "output_type": "execute_result"
    }
   ],
   "source": [
    "intergov_df = fisc_df.groupby(\"report_year\").agg({\n",
    "    \"Inter_Gov_Rev\":'sum',\n",
    "})\n",
    "intergov_df"
   ]
  },
  {
   "cell_type": "code",
   "execution_count": 28,
   "metadata": {},
   "outputs": [
    {
     "data": {
      "image/png": "[encoded data removed]",
      "text/plain": [
       "<Figure size 432x288 with 1 Axes>"
      ]
     },
     "metadata": {},
     "output_type": "display_data"
    }
   ],
   "source": [
    "%matplotlib inline\n",
    "import matplotlib.pyplot as plt\n",
    "intergov_df.plot(title=\"Inter_gov_rev sum over time\")\n",
    "plt.gcf().savefig(\"figures/for-story/1.1 statewide-intergov-unadjusted.png\")\n",
    "#intergov_df.plot(title=\"Inter_gov_rev sum over time\")"
   ]
  },
  {
   "cell_type": "markdown",
   "metadata": {},
   "source": [
    "# Part 2: Intergov rev, adjusted"
   ]
  },
  {
   "cell_type": "code",
   "execution_count": 29,
   "metadata": {},
   "outputs": [
    {
     "data": {
      "text/html": [
       "<div>\n",
       "<style scoped>\n",
       "    .dataframe tbody tr th:only-of-type {\n",
       "        vertical-align: middle;\n",
       "    }\n",
       "\n",
       "    .dataframe tbody tr th {\n",
       "        vertical-align: top;\n",
       "    }\n",
       "\n",
       "    .dataframe thead th {\n",
       "        text-align: right;\n",
       "    }\n",
       "</style>\n",
       "<table border=\"1\" class=\"dataframe\">\n",
       "  <thead>\n",
       "    <tr style=\"text-align: right;\">\n",
       "      <th></th>\n",
       "      <th>Enrollment</th>\n",
       "    </tr>\n",
       "    <tr>\n",
       "      <th>report_year</th>\n",
       "      <th></th>\n",
       "    </tr>\n",
       "  </thead>\n",
       "  <tbody>\n",
       "    <tr>\n",
       "      <th>2007</th>\n",
       "      <td>562684.0</td>\n",
       "    </tr>\n",
       "    <tr>\n",
       "      <th>2008</th>\n",
       "      <td>558048.0</td>\n",
       "    </tr>\n",
       "    <tr>\n",
       "      <th>2009</th>\n",
       "      <td>552783.0</td>\n",
       "    </tr>\n",
       "    <tr>\n",
       "      <th>2010</th>\n",
       "      <td>548313.0</td>\n",
       "    </tr>\n",
       "    <tr>\n",
       "      <th>2011</th>\n",
       "      <td>544179.0</td>\n",
       "    </tr>\n",
       "    <tr>\n",
       "      <th>2012</th>\n",
       "      <td>538197.0</td>\n",
       "    </tr>\n",
       "    <tr>\n",
       "      <th>2013</th>\n",
       "      <td>533198.0</td>\n",
       "    </tr>\n",
       "    <tr>\n",
       "      <th>2014</th>\n",
       "      <td>528428.0</td>\n",
       "    </tr>\n",
       "    <tr>\n",
       "      <th>2015</th>\n",
       "      <td>523185.0</td>\n",
       "    </tr>\n",
       "    <tr>\n",
       "      <th>2016</th>\n",
       "      <td>517912.0</td>\n",
       "    </tr>\n",
       "  </tbody>\n",
       "</table>\n",
       "</div>"
      ],
      "text/plain": [
       "             Enrollment\n",
       "report_year            \n",
       "2007           562684.0\n",
       "2008           558048.0\n",
       "2009           552783.0\n",
       "2010           548313.0\n",
       "2011           544179.0\n",
       "2012           538197.0\n",
       "2013           533198.0\n",
       "2014           528428.0\n",
       "2015           523185.0\n",
       "2016           517912.0"
      ]
     },
     "execution_count": 29,
     "metadata": {},
     "output_type": "execute_result"
    }
   ],
   "source": [
    "enrollment_df = fisc_df.groupby(\"report_year\").agg({\"Enrollment\":'sum'}).round()\n",
    "enrollment_df"
   ]
  },
  {
   "cell_type": "code",
   "execution_count": 30,
   "metadata": {},
   "outputs": [
    {
     "data": {
      "text/html": [
       "<div>\n",
       "<style scoped>\n",
       "    .dataframe tbody tr th:only-of-type {\n",
       "        vertical-align: middle;\n",
       "    }\n",
       "\n",
       "    .dataframe tbody tr th {\n",
       "        vertical-align: top;\n",
       "    }\n",
       "\n",
       "    .dataframe thead th {\n",
       "        text-align: right;\n",
       "    }\n",
       "</style>\n",
       "<table border=\"1\" class=\"dataframe\">\n",
       "  <thead>\n",
       "    <tr style=\"text-align: right;\">\n",
       "      <th></th>\n",
       "      <th>Inter_Gov_Rev</th>\n",
       "      <th>Enrollment</th>\n",
       "      <th>adjusted_rev</th>\n",
       "    </tr>\n",
       "    <tr>\n",
       "      <th>report_year</th>\n",
       "      <th></th>\n",
       "      <th></th>\n",
       "      <th></th>\n",
       "    </tr>\n",
       "  </thead>\n",
       "  <tbody>\n",
       "    <tr>\n",
       "      <th>2007</th>\n",
       "      <td>2.689554e+09</td>\n",
       "      <td>562684.0</td>\n",
       "      <td>4779.865980</td>\n",
       "    </tr>\n",
       "    <tr>\n",
       "      <th>2008</th>\n",
       "      <td>4.237439e+09</td>\n",
       "      <td>558048.0</td>\n",
       "      <td>7593.323151</td>\n",
       "    </tr>\n",
       "    <tr>\n",
       "      <th>2009</th>\n",
       "      <td>3.045746e+09</td>\n",
       "      <td>552783.0</td>\n",
       "      <td>5509.840107</td>\n",
       "    </tr>\n",
       "    <tr>\n",
       "      <th>2010</th>\n",
       "      <td>2.860261e+09</td>\n",
       "      <td>548313.0</td>\n",
       "      <td>5216.475745</td>\n",
       "    </tr>\n",
       "    <tr>\n",
       "      <th>2011</th>\n",
       "      <td>2.912219e+09</td>\n",
       "      <td>544179.0</td>\n",
       "      <td>5351.583244</td>\n",
       "    </tr>\n",
       "    <tr>\n",
       "      <th>2012</th>\n",
       "      <td>3.233235e+09</td>\n",
       "      <td>538197.0</td>\n",
       "      <td>6007.531421</td>\n",
       "    </tr>\n",
       "    <tr>\n",
       "      <th>2013</th>\n",
       "      <td>3.248049e+09</td>\n",
       "      <td>533198.0</td>\n",
       "      <td>6091.638106</td>\n",
       "    </tr>\n",
       "    <tr>\n",
       "      <th>2014</th>\n",
       "      <td>3.358155e+09</td>\n",
       "      <td>528428.0</td>\n",
       "      <td>6354.990848</td>\n",
       "    </tr>\n",
       "    <tr>\n",
       "      <th>2015</th>\n",
       "      <td>3.281546e+09</td>\n",
       "      <td>523185.0</td>\n",
       "      <td>6272.248535</td>\n",
       "    </tr>\n",
       "    <tr>\n",
       "      <th>2016</th>\n",
       "      <td>3.326921e+09</td>\n",
       "      <td>517912.0</td>\n",
       "      <td>6423.718763</td>\n",
       "    </tr>\n",
       "  </tbody>\n",
       "</table>\n",
       "</div>"
      ],
      "text/plain": [
       "             Inter_Gov_Rev  Enrollment  adjusted_rev\n",
       "report_year                                         \n",
       "2007          2.689554e+09    562684.0   4779.865980\n",
       "2008          4.237439e+09    558048.0   7593.323151\n",
       "2009          3.045746e+09    552783.0   5509.840107\n",
       "2010          2.860261e+09    548313.0   5216.475745\n",
       "2011          2.912219e+09    544179.0   5351.583244\n",
       "2012          3.233235e+09    538197.0   6007.531421\n",
       "2013          3.248049e+09    533198.0   6091.638106\n",
       "2014          3.358155e+09    528428.0   6354.990848\n",
       "2015          3.281546e+09    523185.0   6272.248535\n",
       "2016          3.326921e+09    517912.0   6423.718763"
      ]
     },
     "execution_count": 30,
     "metadata": {},
     "output_type": "execute_result"
    }
   ],
   "source": [
    "intergov_adjusted_df = intergov_df.join(enrollment_df)\n",
    "intergov_adjusted_df[\"adjusted_rev\"] = intergov_adjusted_df[\"Inter_Gov_Rev\"] / intergov_adjusted_df[\"Enrollment\"]\n",
    "intergov_adjusted_df"
   ]
  },
  {
   "cell_type": "code",
   "execution_count": 31,
   "metadata": {},
   "outputs": [
    {
     "data": {
      "image/png": "[encoded data removed]",
      "text/plain": [
       "<Figure size 432x288 with 1 Axes>"
      ]
     },
     "metadata": {},
     "output_type": "display_data"
    }
   ],
   "source": [
    "intergov_adjusted_df[\"adjusted_rev\"].plot(title=\"Intergov rev adjusted\")\n",
    "plt.gcf().savefig(\"figures/for-story/1.2 statewide-intergov-adjusted.png\")\n"
   ]
  },
  {
   "cell_type": "markdown",
   "metadata": {},
   "source": [
    "# Part 3: Just Equalization and ARRA, unadjusted"
   ]
  },
  {
   "cell_type": "code",
   "execution_count": null,
   "metadata": {},
   "outputs": [],
   "source": []
  },
  {
   "cell_type": "code",
   "execution_count": 32,
   "metadata": {},
   "outputs": [
    {
     "name": "stdout",
     "output_type": "stream",
     "text": [
      "How many cities are in here?\n"
     ]
    },
    {
     "data": {
      "text/plain": [
       "122"
      ]
     },
     "execution_count": 32,
     "metadata": {},
     "output_type": "execute_result"
    }
   ],
   "source": [
    "grant_df = pd.read_csv(\"output/4_grant_spending.csv\")\n",
    "print (\"How many cities are in here?\")\n",
    "len(grant_df[\"City\"].unique())"
   ]
  },
  {
   "cell_type": "code",
   "execution_count": null,
   "metadata": {},
   "outputs": [],
   "source": []
  },
  {
   "cell_type": "code",
   "execution_count": 33,
   "metadata": {},
   "outputs": [
    {
     "data": {
      "text/html": [
       "<div>\n",
       "<style scoped>\n",
       "    .dataframe tbody tr th:only-of-type {\n",
       "        vertical-align: middle;\n",
       "    }\n",
       "\n",
       "    .dataframe tbody tr th {\n",
       "        vertical-align: top;\n",
       "    }\n",
       "\n",
       "    .dataframe thead th {\n",
       "        text-align: right;\n",
       "    }\n",
       "</style>\n",
       "<table border=\"1\" class=\"dataframe\">\n",
       "  <thead>\n",
       "    <tr style=\"text-align: right;\">\n",
       "      <th></th>\n",
       "      <th>Payment</th>\n",
       "    </tr>\n",
       "    <tr>\n",
       "      <th>report_year</th>\n",
       "      <th></th>\n",
       "    </tr>\n",
       "  </thead>\n",
       "  <tbody>\n",
       "    <tr>\n",
       "      <th>2004</th>\n",
       "      <td>1454524550</td>\n",
       "    </tr>\n",
       "    <tr>\n",
       "      <th>2005</th>\n",
       "      <td>1492783524</td>\n",
       "    </tr>\n",
       "    <tr>\n",
       "      <th>2006</th>\n",
       "      <td>1546163605</td>\n",
       "    </tr>\n",
       "    <tr>\n",
       "      <th>2007</th>\n",
       "      <td>1553963572</td>\n",
       "    </tr>\n",
       "    <tr>\n",
       "      <th>2008</th>\n",
       "      <td>1712452116</td>\n",
       "    </tr>\n",
       "    <tr>\n",
       "      <th>2009</th>\n",
       "      <td>1788247613</td>\n",
       "    </tr>\n",
       "    <tr>\n",
       "      <th>2010</th>\n",
       "      <td>1796967608</td>\n",
       "    </tr>\n",
       "    <tr>\n",
       "      <th>2011</th>\n",
       "      <td>1800577456</td>\n",
       "    </tr>\n",
       "    <tr>\n",
       "      <th>2012</th>\n",
       "      <td>1801082863</td>\n",
       "    </tr>\n",
       "    <tr>\n",
       "      <th>2013</th>\n",
       "      <td>1841623245</td>\n",
       "    </tr>\n",
       "    <tr>\n",
       "      <th>2014</th>\n",
       "      <td>1904788221</td>\n",
       "    </tr>\n",
       "    <tr>\n",
       "      <th>2015</th>\n",
       "      <td>1946314217</td>\n",
       "    </tr>\n",
       "    <tr>\n",
       "      <th>2016</th>\n",
       "      <td>1973126810</td>\n",
       "    </tr>\n",
       "    <tr>\n",
       "      <th>2017</th>\n",
       "      <td>1937978994</td>\n",
       "    </tr>\n",
       "    <tr>\n",
       "      <th>2018</th>\n",
       "      <td>1854062555</td>\n",
       "    </tr>\n",
       "  </tbody>\n",
       "</table>\n",
       "</div>"
      ],
      "text/plain": [
       "                Payment\n",
       "report_year            \n",
       "2004         1454524550\n",
       "2005         1492783524\n",
       "2006         1546163605\n",
       "2007         1553963572\n",
       "2008         1712452116\n",
       "2009         1788247613\n",
       "2010         1796967608\n",
       "2011         1800577456\n",
       "2012         1801082863\n",
       "2013         1841623245\n",
       "2014         1904788221\n",
       "2015         1946314217\n",
       "2016         1973126810\n",
       "2017         1937978994\n",
       "2018         1854062555"
      ]
     },
     "execution_count": 33,
     "metadata": {},
     "output_type": "execute_result"
    }
   ],
   "source": [
    "grants_by_year = grant_df.groupby(\"report_year\").agg({\"Payment\":'sum'})\n",
    "grants_by_year"
   ]
  },
  {
   "cell_type": "code",
   "execution_count": 34,
   "metadata": {},
   "outputs": [
    {
     "data": {
      "image/png": "[encoded data removed]",
      "text/plain": [
       "<Figure size 432x288 with 1 Axes>"
      ]
     },
     "metadata": {},
     "output_type": "display_data"
    }
   ],
   "source": [
    "grants_by_year.plot(title=\"Equalization + ARRA, unadjusted\")\n",
    "plt.gcf().savefig(\"figures/for-story/1.3 statewide-ecs-arra-unadjusted.png\")"
   ]
  },
  {
   "cell_type": "code",
   "execution_count": 35,
   "metadata": {},
   "outputs": [
    {
     "data": {
      "text/html": [
       "<div>\n",
       "<style scoped>\n",
       "    .dataframe tbody tr th:only-of-type {\n",
       "        vertical-align: middle;\n",
       "    }\n",
       "\n",
       "    .dataframe tbody tr th {\n",
       "        vertical-align: top;\n",
       "    }\n",
       "\n",
       "    .dataframe thead th {\n",
       "        text-align: right;\n",
       "    }\n",
       "</style>\n",
       "<table border=\"1\" class=\"dataframe\">\n",
       "  <thead>\n",
       "    <tr style=\"text-align: right;\">\n",
       "      <th></th>\n",
       "      <th>Payment</th>\n",
       "      <th>Enrollment</th>\n",
       "    </tr>\n",
       "    <tr>\n",
       "      <th>report_year</th>\n",
       "      <th></th>\n",
       "      <th></th>\n",
       "    </tr>\n",
       "  </thead>\n",
       "  <tbody>\n",
       "    <tr>\n",
       "      <th>2004</th>\n",
       "      <td>1454524550</td>\n",
       "      <td>NaN</td>\n",
       "    </tr>\n",
       "    <tr>\n",
       "      <th>2005</th>\n",
       "      <td>1492783524</td>\n",
       "      <td>NaN</td>\n",
       "    </tr>\n",
       "    <tr>\n",
       "      <th>2006</th>\n",
       "      <td>1546163605</td>\n",
       "      <td>NaN</td>\n",
       "    </tr>\n",
       "    <tr>\n",
       "      <th>2007</th>\n",
       "      <td>1553963572</td>\n",
       "      <td>562684.0</td>\n",
       "    </tr>\n",
       "    <tr>\n",
       "      <th>2008</th>\n",
       "      <td>1712452116</td>\n",
       "      <td>558048.0</td>\n",
       "    </tr>\n",
       "    <tr>\n",
       "      <th>2009</th>\n",
       "      <td>1788247613</td>\n",
       "      <td>552783.0</td>\n",
       "    </tr>\n",
       "    <tr>\n",
       "      <th>2010</th>\n",
       "      <td>1796967608</td>\n",
       "      <td>548313.0</td>\n",
       "    </tr>\n",
       "    <tr>\n",
       "      <th>2011</th>\n",
       "      <td>1800577456</td>\n",
       "      <td>544179.0</td>\n",
       "    </tr>\n",
       "    <tr>\n",
       "      <th>2012</th>\n",
       "      <td>1801082863</td>\n",
       "      <td>538197.0</td>\n",
       "    </tr>\n",
       "    <tr>\n",
       "      <th>2013</th>\n",
       "      <td>1841623245</td>\n",
       "      <td>533198.0</td>\n",
       "    </tr>\n",
       "    <tr>\n",
       "      <th>2014</th>\n",
       "      <td>1904788221</td>\n",
       "      <td>528428.0</td>\n",
       "    </tr>\n",
       "    <tr>\n",
       "      <th>2015</th>\n",
       "      <td>1946314217</td>\n",
       "      <td>523185.0</td>\n",
       "    </tr>\n",
       "    <tr>\n",
       "      <th>2016</th>\n",
       "      <td>1973126810</td>\n",
       "      <td>517912.0</td>\n",
       "    </tr>\n",
       "    <tr>\n",
       "      <th>2017</th>\n",
       "      <td>1937978994</td>\n",
       "      <td>NaN</td>\n",
       "    </tr>\n",
       "    <tr>\n",
       "      <th>2018</th>\n",
       "      <td>1854062555</td>\n",
       "      <td>NaN</td>\n",
       "    </tr>\n",
       "  </tbody>\n",
       "</table>\n",
       "</div>"
      ],
      "text/plain": [
       "                Payment  Enrollment\n",
       "report_year                        \n",
       "2004         1454524550         NaN\n",
       "2005         1492783524         NaN\n",
       "2006         1546163605         NaN\n",
       "2007         1553963572    562684.0\n",
       "2008         1712452116    558048.0\n",
       "2009         1788247613    552783.0\n",
       "2010         1796967608    548313.0\n",
       "2011         1800577456    544179.0\n",
       "2012         1801082863    538197.0\n",
       "2013         1841623245    533198.0\n",
       "2014         1904788221    528428.0\n",
       "2015         1946314217    523185.0\n",
       "2016         1973126810    517912.0\n",
       "2017         1937978994         NaN\n",
       "2018         1854062555         NaN"
      ]
     },
     "execution_count": 35,
     "metadata": {},
     "output_type": "execute_result"
    }
   ],
   "source": [
    "grants_by_year_adjusted = grants_by_year.join(enrollment_df)\n",
    "grants_by_year_adjusted"
   ]
  },
  {
   "cell_type": "code",
   "execution_count": 36,
   "metadata": {},
   "outputs": [
    {
     "data": {
      "image/png": "[encoded data removed]",
      "text/plain": [
       "<Figure size 432x288 with 1 Axes>"
      ]
     },
     "metadata": {},
     "output_type": "display_data"
    }
   ],
   "source": [
    "grants_by_year_adjusted[\"rev_adjusted\"] = grants_by_year_adjusted[\"Payment\"] / grants_by_year_adjusted[\"Enrollment\"]\n",
    "grants_by_year_adjusted[\"rev_adjusted\"].plot(title=\"ECS + ARRA adjusted\")\n",
    "plt.gcf().savefig(\"figures/for-story/1.4 WRONG statewide-ecs-arra-adjusted for FISCIND ENROLLMENT.png\")"
   ]
  },
  {
   "cell_type": "markdown",
   "metadata": {},
   "source": [
    "# Use edsight enrollment instead\n",
    "\n",
    "The above uses fiscal indicators enrollment which can be quite different form edsight enrollment"
   ]
  },
  {
   "cell_type": "code",
   "execution_count": 37,
   "metadata": {},
   "outputs": [
    {
     "data": {
      "text/html": [
       "<div>\n",
       "<style scoped>\n",
       "    .dataframe tbody tr th:only-of-type {\n",
       "        vertical-align: middle;\n",
       "    }\n",
       "\n",
       "    .dataframe tbody tr th {\n",
       "        vertical-align: top;\n",
       "    }\n",
       "\n",
       "    .dataframe thead th {\n",
       "        text-align: right;\n",
       "    }\n",
       "</style>\n",
       "<table border=\"1\" class=\"dataframe\">\n",
       "  <thead>\n",
       "    <tr style=\"text-align: right;\">\n",
       "      <th></th>\n",
       "      <th>Payment</th>\n",
       "      <th>Enrollment</th>\n",
       "      <th>rev_adjusted</th>\n",
       "      <th>EDSIGHT_ENROLLMENT</th>\n",
       "    </tr>\n",
       "    <tr>\n",
       "      <th>report_year</th>\n",
       "      <th></th>\n",
       "      <th></th>\n",
       "      <th></th>\n",
       "      <th></th>\n",
       "    </tr>\n",
       "  </thead>\n",
       "  <tbody>\n",
       "    <tr>\n",
       "      <th>2004</th>\n",
       "      <td>1454524550</td>\n",
       "      <td>NaN</td>\n",
       "      <td>NaN</td>\n",
       "      <td>0.0</td>\n",
       "    </tr>\n",
       "    <tr>\n",
       "      <th>2005</th>\n",
       "      <td>1492783524</td>\n",
       "      <td>NaN</td>\n",
       "      <td>NaN</td>\n",
       "      <td>0.0</td>\n",
       "    </tr>\n",
       "    <tr>\n",
       "      <th>2006</th>\n",
       "      <td>1546163605</td>\n",
       "      <td>NaN</td>\n",
       "      <td>NaN</td>\n",
       "      <td>0.0</td>\n",
       "    </tr>\n",
       "    <tr>\n",
       "      <th>2007</th>\n",
       "      <td>1553963572</td>\n",
       "      <td>562684.0</td>\n",
       "      <td>2761.698524</td>\n",
       "      <td>0.0</td>\n",
       "    </tr>\n",
       "    <tr>\n",
       "      <th>2008</th>\n",
       "      <td>1712452116</td>\n",
       "      <td>558048.0</td>\n",
       "      <td>3068.646633</td>\n",
       "      <td>516261.0</td>\n",
       "    </tr>\n",
       "    <tr>\n",
       "      <th>2009</th>\n",
       "      <td>1788247613</td>\n",
       "      <td>552783.0</td>\n",
       "      <td>3234.990246</td>\n",
       "      <td>510929.0</td>\n",
       "    </tr>\n",
       "    <tr>\n",
       "      <th>2010</th>\n",
       "      <td>1796967608</td>\n",
       "      <td>548313.0</td>\n",
       "      <td>3277.266102</td>\n",
       "      <td>506693.0</td>\n",
       "    </tr>\n",
       "    <tr>\n",
       "      <th>2011</th>\n",
       "      <td>1800577456</td>\n",
       "      <td>544179.0</td>\n",
       "      <td>3308.796289</td>\n",
       "      <td>502642.0</td>\n",
       "    </tr>\n",
       "    <tr>\n",
       "      <th>2012</th>\n",
       "      <td>1801082863</td>\n",
       "      <td>538197.0</td>\n",
       "      <td>3346.512268</td>\n",
       "      <td>495717.0</td>\n",
       "    </tr>\n",
       "    <tr>\n",
       "      <th>2013</th>\n",
       "      <td>1841623245</td>\n",
       "      <td>533198.0</td>\n",
       "      <td>3453.920017</td>\n",
       "      <td>491623.0</td>\n",
       "    </tr>\n",
       "    <tr>\n",
       "      <th>2014</th>\n",
       "      <td>1904788221</td>\n",
       "      <td>528428.0</td>\n",
       "      <td>3604.631513</td>\n",
       "      <td>485608.0</td>\n",
       "    </tr>\n",
       "    <tr>\n",
       "      <th>2015</th>\n",
       "      <td>1946314217</td>\n",
       "      <td>523185.0</td>\n",
       "      <td>3720.126183</td>\n",
       "      <td>480741.0</td>\n",
       "    </tr>\n",
       "    <tr>\n",
       "      <th>2016</th>\n",
       "      <td>1973126810</td>\n",
       "      <td>517912.0</td>\n",
       "      <td>3809.772336</td>\n",
       "      <td>475812.0</td>\n",
       "    </tr>\n",
       "    <tr>\n",
       "      <th>2017</th>\n",
       "      <td>1937978994</td>\n",
       "      <td>NaN</td>\n",
       "      <td>NaN</td>\n",
       "      <td>472482.0</td>\n",
       "    </tr>\n",
       "    <tr>\n",
       "      <th>2018</th>\n",
       "      <td>1854062555</td>\n",
       "      <td>NaN</td>\n",
       "      <td>NaN</td>\n",
       "      <td>468599.0</td>\n",
       "    </tr>\n",
       "  </tbody>\n",
       "</table>\n",
       "</div>"
      ],
      "text/plain": [
       "                Payment  Enrollment  rev_adjusted  EDSIGHT_ENROLLMENT\n",
       "report_year                                                          \n",
       "2004         1454524550         NaN           NaN                 0.0\n",
       "2005         1492783524         NaN           NaN                 0.0\n",
       "2006         1546163605         NaN           NaN                 0.0\n",
       "2007         1553963572    562684.0   2761.698524                 0.0\n",
       "2008         1712452116    558048.0   3068.646633            516261.0\n",
       "2009         1788247613    552783.0   3234.990246            510929.0\n",
       "2010         1796967608    548313.0   3277.266102            506693.0\n",
       "2011         1800577456    544179.0   3308.796289            502642.0\n",
       "2012         1801082863    538197.0   3346.512268            495717.0\n",
       "2013         1841623245    533198.0   3453.920017            491623.0\n",
       "2014         1904788221    528428.0   3604.631513            485608.0\n",
       "2015         1946314217    523185.0   3720.126183            480741.0\n",
       "2016         1973126810    517912.0   3809.772336            475812.0\n",
       "2017         1937978994         NaN           NaN            472482.0\n",
       "2018         1854062555         NaN           NaN            468599.0"
      ]
     },
     "execution_count": 37,
     "metadata": {},
     "output_type": "execute_result"
    }
   ],
   "source": [
    "combined = pd.read_csv(\"output/5_combined.csv\")\n",
    "edsight_enrollment_df = combined.groupby(\"report_year\").agg({\"EDSIGHT_ENROLLMENT\":'sum'})\n",
    "grants_by_year_adjusted = grants_by_year_adjusted.join(edsight_enrollment_df)\n",
    "grants_by_year_adjusted"
   ]
  },
  {
   "cell_type": "code",
   "execution_count": 50,
   "metadata": {},
   "outputs": [
    {
     "data": {
      "text/plain": [
       "<matplotlib.axes._subplots.AxesSubplot at 0x113cd4410>"
      ]
     },
     "execution_count": 50,
     "metadata": {},
     "output_type": "execute_result"
    },
    {
     "data": {
      "image/png": "[encoded data removed]",
      "text/plain": [
       "<Figure size 432x288 with 1 Axes>"
      ]
     },
     "metadata": {},
     "output_type": "display_data"
    }
   ],
   "source": [
    "grants_by_year_adjusted[\"rev_adjusted_edsight\"] = grants_by_year_adjusted[\"Payment\"] / grants_by_year_adjusted[\"Enrollment\"]\n",
    "grants_by_year_adjusted[\"rev_adjusted_edsight\"].plot(title=\"ECS + ARRA adjusted WITH EDSIGHT ENROLLMENT\")"
   ]
  },
  {
   "cell_type": "code",
   "execution_count": 38,
   "metadata": {},
   "outputs": [
    {
     "data": {
      "text/plain": [
       "<module 'matplotlib.pyplot' from '/Users/jakekara/pandas/lib/python2.7/site-packages/matplotlib/pyplot.pyc'>"
      ]
     },
     "execution_count": 38,
     "metadata": {},
     "output_type": "execute_result"
    },
    {
     "data": {
      "image/png": "[encoded data removed]",
      "text/plain": [
       "<Figure size 432x288 with 1 Axes>"
      ]
     },
     "metadata": {},
     "output_type": "display_data"
    }
   ],
   "source": [
    "grants_by_year_adjusted[\"rev_adjusted_edsight\"] = grants_by_year_adjusted[\"Payment\"] / grants_by_year_adjusted[\"EDSIGHT_ENROLLMENT\"]\n",
    "grants_by_year_adjusted[\"rev_adjusted_edsight\"].plot(title=\"ECS + ARRA adjusted WITH EDSIGHT ENROLLMENT\")\n",
    "plt.gcf().savefig(\"figures/for-story/1.4 ALT statewide-ecs-arra-adjusted-EDSIGHT.png\")\n",
    "plt"
   ]
  },
  {
   "cell_type": "code",
   "execution_count": 49,
   "metadata": {},
   "outputs": [
    {
     "data": {
      "text/html": [
       "<div>\n",
       "<style scoped>\n",
       "    .dataframe tbody tr th:only-of-type {\n",
       "        vertical-align: middle;\n",
       "    }\n",
       "\n",
       "    .dataframe tbody tr th {\n",
       "        vertical-align: top;\n",
       "    }\n",
       "\n",
       "    .dataframe thead th {\n",
       "        text-align: right;\n",
       "    }\n",
       "</style>\n",
       "<table border=\"1\" class=\"dataframe\">\n",
       "  <thead>\n",
       "    <tr style=\"text-align: right;\">\n",
       "      <th></th>\n",
       "      <th>Payment</th>\n",
       "      <th>Enrollment</th>\n",
       "      <th>rev_adjusted</th>\n",
       "      <th>EDSIGHT_ENROLLMENT</th>\n",
       "      <th>rev_adjusted_edsight</th>\n",
       "    </tr>\n",
       "    <tr>\n",
       "      <th>report_year</th>\n",
       "      <th></th>\n",
       "      <th></th>\n",
       "      <th></th>\n",
       "      <th></th>\n",
       "      <th></th>\n",
       "    </tr>\n",
       "  </thead>\n",
       "  <tbody>\n",
       "    <tr>\n",
       "      <th>2004</th>\n",
       "      <td>1454524550</td>\n",
       "      <td>NaN</td>\n",
       "      <td>NaN</td>\n",
       "      <td>0.0</td>\n",
       "      <td>inf</td>\n",
       "    </tr>\n",
       "    <tr>\n",
       "      <th>2005</th>\n",
       "      <td>1492783524</td>\n",
       "      <td>NaN</td>\n",
       "      <td>NaN</td>\n",
       "      <td>0.0</td>\n",
       "      <td>inf</td>\n",
       "    </tr>\n",
       "    <tr>\n",
       "      <th>2006</th>\n",
       "      <td>1546163605</td>\n",
       "      <td>NaN</td>\n",
       "      <td>NaN</td>\n",
       "      <td>0.0</td>\n",
       "      <td>inf</td>\n",
       "    </tr>\n",
       "    <tr>\n",
       "      <th>2007</th>\n",
       "      <td>1553963572</td>\n",
       "      <td>562684.0</td>\n",
       "      <td>2761.698524</td>\n",
       "      <td>0.0</td>\n",
       "      <td>inf</td>\n",
       "    </tr>\n",
       "    <tr>\n",
       "      <th>2008</th>\n",
       "      <td>1712452116</td>\n",
       "      <td>558048.0</td>\n",
       "      <td>3068.646633</td>\n",
       "      <td>516261.0</td>\n",
       "      <td>3317.027852</td>\n",
       "    </tr>\n",
       "    <tr>\n",
       "      <th>2009</th>\n",
       "      <td>1788247613</td>\n",
       "      <td>552783.0</td>\n",
       "      <td>3234.990246</td>\n",
       "      <td>510929.0</td>\n",
       "      <td>3499.992392</td>\n",
       "    </tr>\n",
       "    <tr>\n",
       "      <th>2010</th>\n",
       "      <td>1796967608</td>\n",
       "      <td>548313.0</td>\n",
       "      <td>3277.266102</td>\n",
       "      <td>506693.0</td>\n",
       "      <td>3546.462272</td>\n",
       "    </tr>\n",
       "    <tr>\n",
       "      <th>2011</th>\n",
       "      <td>1800577456</td>\n",
       "      <td>544179.0</td>\n",
       "      <td>3308.796289</td>\n",
       "      <td>502642.0</td>\n",
       "      <td>3582.226428</td>\n",
       "    </tr>\n",
       "    <tr>\n",
       "      <th>2012</th>\n",
       "      <td>1801082863</td>\n",
       "      <td>538197.0</td>\n",
       "      <td>3346.512268</td>\n",
       "      <td>495717.0</td>\n",
       "      <td>3633.288475</td>\n",
       "    </tr>\n",
       "    <tr>\n",
       "      <th>2013</th>\n",
       "      <td>1841623245</td>\n",
       "      <td>533198.0</td>\n",
       "      <td>3453.920017</td>\n",
       "      <td>491623.0</td>\n",
       "      <td>3746.007093</td>\n",
       "    </tr>\n",
       "    <tr>\n",
       "      <th>2014</th>\n",
       "      <td>1904788221</td>\n",
       "      <td>528428.0</td>\n",
       "      <td>3604.631513</td>\n",
       "      <td>485608.0</td>\n",
       "      <td>3922.481139</td>\n",
       "    </tr>\n",
       "    <tr>\n",
       "      <th>2015</th>\n",
       "      <td>1946314217</td>\n",
       "      <td>523185.0</td>\n",
       "      <td>3720.126183</td>\n",
       "      <td>480741.0</td>\n",
       "      <td>4048.571303</td>\n",
       "    </tr>\n",
       "    <tr>\n",
       "      <th>2016</th>\n",
       "      <td>1973126810</td>\n",
       "      <td>517912.0</td>\n",
       "      <td>3809.772336</td>\n",
       "      <td>475812.0</td>\n",
       "      <td>4146.862227</td>\n",
       "    </tr>\n",
       "    <tr>\n",
       "      <th>2017</th>\n",
       "      <td>1937978994</td>\n",
       "      <td>NaN</td>\n",
       "      <td>NaN</td>\n",
       "      <td>472482.0</td>\n",
       "      <td>4101.699100</td>\n",
       "    </tr>\n",
       "    <tr>\n",
       "      <th>2018</th>\n",
       "      <td>1854062555</td>\n",
       "      <td>NaN</td>\n",
       "      <td>NaN</td>\n",
       "      <td>468599.0</td>\n",
       "      <td>3956.608006</td>\n",
       "    </tr>\n",
       "  </tbody>\n",
       "</table>\n",
       "</div>"
      ],
      "text/plain": [
       "                Payment  Enrollment  rev_adjusted  EDSIGHT_ENROLLMENT  \\\n",
       "report_year                                                             \n",
       "2004         1454524550         NaN           NaN                 0.0   \n",
       "2005         1492783524         NaN           NaN                 0.0   \n",
       "2006         1546163605         NaN           NaN                 0.0   \n",
       "2007         1553963572    562684.0   2761.698524                 0.0   \n",
       "2008         1712452116    558048.0   3068.646633            516261.0   \n",
       "2009         1788247613    552783.0   3234.990246            510929.0   \n",
       "2010         1796967608    548313.0   3277.266102            506693.0   \n",
       "2011         1800577456    544179.0   3308.796289            502642.0   \n",
       "2012         1801082863    538197.0   3346.512268            495717.0   \n",
       "2013         1841623245    533198.0   3453.920017            491623.0   \n",
       "2014         1904788221    528428.0   3604.631513            485608.0   \n",
       "2015         1946314217    523185.0   3720.126183            480741.0   \n",
       "2016         1973126810    517912.0   3809.772336            475812.0   \n",
       "2017         1937978994         NaN           NaN            472482.0   \n",
       "2018         1854062555         NaN           NaN            468599.0   \n",
       "\n",
       "             rev_adjusted_edsight  \n",
       "report_year                        \n",
       "2004                          inf  \n",
       "2005                          inf  \n",
       "2006                          inf  \n",
       "2007                          inf  \n",
       "2008                  3317.027852  \n",
       "2009                  3499.992392  \n",
       "2010                  3546.462272  \n",
       "2011                  3582.226428  \n",
       "2012                  3633.288475  \n",
       "2013                  3746.007093  \n",
       "2014                  3922.481139  \n",
       "2015                  4048.571303  \n",
       "2016                  4146.862227  \n",
       "2017                  4101.699100  \n",
       "2018                  3956.608006  "
      ]
     },
     "execution_count": 49,
     "metadata": {},
     "output_type": "execute_result"
    }
   ],
   "source": [
    "grants_by_year_adjusted"
   ]
  },
  {
   "cell_type": "code",
   "execution_count": null,
   "metadata": {},
   "outputs": [],
   "source": []
  },
  {
   "cell_type": "markdown",
   "metadata": {},
   "source": [
    "## Part 4, looking at district subgroups based on wealth rank"
   ]
  },
  {
   "cell_type": "code",
   "execution_count": 39,
   "metadata": {},
   "outputs": [
    {
     "name": "stdout",
     "output_type": "stream",
     "text": [
      "How many cities are in here?\n"
     ]
    },
    {
     "data": {
      "text/plain": [
       "122"
      ]
     },
     "execution_count": 39,
     "metadata": {},
     "output_type": "execute_result"
    }
   ],
   "source": [
    "grant_df2 = pd.read_csv(\"output/5_combined.csv\")\n",
    "#grant_df2\n",
    "grant_df2 = grant_df2[grant_df2[\"Grant Payments\"].notnull()]\n",
    "print (\"How many cities are in here?\")\n",
    "len(\n",
    "    grant_df2[\"City\"].unique()\n",
    ")"
   ]
  },
  {
   "cell_type": "code",
   "execution_count": null,
   "metadata": {},
   "outputs": [],
   "source": []
  },
  {
   "cell_type": "code",
   "execution_count": 40,
   "metadata": {},
   "outputs": [
    {
     "name": "stdout",
     "output_type": "stream",
     "text": [
      "REV_COL Grant Payments\n"
     ]
    },
    {
     "data": {
      "text/html": [
       "<div>\n",
       "<style scoped>\n",
       "    .dataframe tbody tr th:only-of-type {\n",
       "        vertical-align: middle;\n",
       "    }\n",
       "\n",
       "    .dataframe tbody tr th {\n",
       "        vertical-align: top;\n",
       "    }\n",
       "\n",
       "    .dataframe thead th {\n",
       "        text-align: right;\n",
       "    }\n",
       "</style>\n",
       "<table border=\"1\" class=\"dataframe\">\n",
       "  <thead>\n",
       "    <tr style=\"text-align: right;\">\n",
       "      <th></th>\n",
       "      <th>Enrollment</th>\n",
       "      <th>Grant Payments</th>\n",
       "      <th>rev_per_student</th>\n",
       "    </tr>\n",
       "    <tr>\n",
       "      <th>report_year</th>\n",
       "      <th></th>\n",
       "      <th></th>\n",
       "      <th></th>\n",
       "    </tr>\n",
       "  </thead>\n",
       "  <tbody>\n",
       "    <tr>\n",
       "      <th>2007</th>\n",
       "      <td>35915.59</td>\n",
       "      <td>8745104.0</td>\n",
       "      <td>243.490473</td>\n",
       "    </tr>\n",
       "    <tr>\n",
       "      <th>2008</th>\n",
       "      <td>35955.95</td>\n",
       "      <td>12899890.0</td>\n",
       "      <td>358.769272</td>\n",
       "    </tr>\n",
       "    <tr>\n",
       "      <th>2009</th>\n",
       "      <td>35933.05</td>\n",
       "      <td>13183061.0</td>\n",
       "      <td>366.878431</td>\n",
       "    </tr>\n",
       "    <tr>\n",
       "      <th>2010</th>\n",
       "      <td>35702.56</td>\n",
       "      <td>12905901.0</td>\n",
       "      <td>361.483910</td>\n",
       "    </tr>\n",
       "    <tr>\n",
       "      <th>2011</th>\n",
       "      <td>35802.01</td>\n",
       "      <td>13780360.0</td>\n",
       "      <td>384.904646</td>\n",
       "    </tr>\n",
       "    <tr>\n",
       "      <th>2012</th>\n",
       "      <td>35643.37</td>\n",
       "      <td>13364892.0</td>\n",
       "      <td>374.961515</td>\n",
       "    </tr>\n",
       "    <tr>\n",
       "      <th>2013</th>\n",
       "      <td>35572.29</td>\n",
       "      <td>13624236.0</td>\n",
       "      <td>383.001376</td>\n",
       "    </tr>\n",
       "    <tr>\n",
       "      <th>2014</th>\n",
       "      <td>35543.06</td>\n",
       "      <td>13667602.0</td>\n",
       "      <td>384.536447</td>\n",
       "    </tr>\n",
       "    <tr>\n",
       "      <th>2015</th>\n",
       "      <td>35360.61</td>\n",
       "      <td>13464412.0</td>\n",
       "      <td>380.774314</td>\n",
       "    </tr>\n",
       "    <tr>\n",
       "      <th>2016</th>\n",
       "      <td>35074.62</td>\n",
       "      <td>12060217.0</td>\n",
       "      <td>343.844552</td>\n",
       "    </tr>\n",
       "  </tbody>\n",
       "</table>\n",
       "</div>"
      ],
      "text/plain": [
       "             Enrollment  Grant Payments  rev_per_student\n",
       "report_year                                             \n",
       "2007           35915.59       8745104.0       243.490473\n",
       "2008           35955.95      12899890.0       358.769272\n",
       "2009           35933.05      13183061.0       366.878431\n",
       "2010           35702.56      12905901.0       361.483910\n",
       "2011           35802.01      13780360.0       384.904646\n",
       "2012           35643.37      13364892.0       374.961515\n",
       "2013           35572.29      13624236.0       383.001376\n",
       "2014           35543.06      13667602.0       384.536447\n",
       "2015           35360.61      13464412.0       380.774314\n",
       "2016           35074.62      12060217.0       343.844552"
      ]
     },
     "execution_count": 40,
     "metadata": {},
     "output_type": "execute_result"
    }
   ],
   "source": [
    "def revenue_per_capita(min_rank=0, max_rank=1000, rev_col=None):\n",
    "\n",
    "    if rev_col is None:\n",
    "        rev_col = \"Grant Payments\"\n",
    "    \n",
    "    print (\"REV_COL %s\" % rev_col)\n",
    "    \n",
    "    ret = grant_df2[(grant_df2[\"wealth_rank\"] >= min_rank) & (grant_df2[\"wealth_rank\"] <= max_rank)].groupby([\"report_year\"]).agg({\n",
    "        rev_col:'sum',\n",
    "        \"Enrollment\":\"sum\"\n",
    "    })\n",
    "    ret = ret[ret[\"Enrollment\"] > 0]\n",
    "    ret[\"rev_per_student\"] = ret[rev_col] / ret[\"Enrollment\"]\n",
    "\n",
    "    return ret\n",
    "\n",
    "revenue_per_capita(0,10)#, rev_col=\"Inter_Gov_Rev\")"
   ]
  },
  {
   "cell_type": "code",
   "execution_count": 41,
   "metadata": {},
   "outputs": [
    {
     "name": "stdout",
     "output_type": "stream",
     "text": [
      "REV_COL Grant Payments\n"
     ]
    },
    {
     "data": {
      "text/plain": [
       "<matplotlib.axes._subplots.AxesSubplot at 0x11476e990>"
      ]
     },
     "execution_count": 41,
     "metadata": {},
     "output_type": "execute_result"
    },
    {
     "data": {
      "image/png": "[encoded data removed]",
      "text/plain": [
       "<Figure size 432x288 with 1 Axes>"
      ]
     },
     "metadata": {},
     "output_type": "display_data"
    }
   ],
   "source": [
    "revenue_per_capita(0,10)[\"rev_per_student\"].plot()"
   ]
  },
  {
   "cell_type": "code",
   "execution_count": 42,
   "metadata": {},
   "outputs": [],
   "source": [
    "import matplotlib.pyplot as plt\n"
   ]
  },
  {
   "cell_type": "code",
   "execution_count": null,
   "metadata": {},
   "outputs": [],
   "source": []
  },
  {
   "cell_type": "code",
   "execution_count": 43,
   "metadata": {},
   "outputs": [
    {
     "name": "stdout",
     "output_type": "stream",
     "text": [
      "REV_COL Grant Payments\n"
     ]
    },
    {
     "data": {
      "text/plain": [
       "<matplotlib.axes._subplots.AxesSubplot at 0x1077ea890>"
      ]
     },
     "execution_count": 43,
     "metadata": {},
     "output_type": "execute_result"
    },
    {
     "data": {
      "image/png": "[encoded data removed]",
      "text/plain": [
       "<Figure size 432x288 with 1 Axes>"
      ]
     },
     "metadata": {},
     "output_type": "display_data"
    }
   ],
   "source": [
    "\n",
    "def plot_segment(floor, ceil, ax=None, rev_col=None):\n",
    "    return revenue_per_capita(floor, ceil, rev_col=rev_col)[\"rev_per_student\"].plot(\n",
    "        title=\"%d to %d\" % (floor, ceil),\n",
    "        grid=True,\n",
    "        ax=ax\n",
    "    )\n",
    "\n",
    "plot_segment(0, 160)#, rev_col=\"Inter_Gov_Rev\")"
   ]
  },
  {
   "cell_type": "code",
   "execution_count": 44,
   "metadata": {},
   "outputs": [
    {
     "data": {
      "text/plain": [
       "2.0"
      ]
     },
     "execution_count": 44,
     "metadata": {},
     "output_type": "execute_result"
    }
   ],
   "source": [
    "import numpy as np\n",
    "np.sqrt(4)"
   ]
  },
  {
   "cell_type": "code",
   "execution_count": 45,
   "metadata": {},
   "outputs": [],
   "source": [
    "import matplotlib.pyplot as plt"
   ]
  },
  {
   "cell_type": "code",
   "execution_count": 46,
   "metadata": {},
   "outputs": [
    {
     "name": "stdout",
     "output_type": "stream",
     "text": [
      "rev_col: None\n",
      "REV_COL Grant Payments\n",
      "REV_COL Grant Payments\n",
      "REV_COL Grant Payments\n",
      "REV_COL Grant Payments\n"
     ]
    },
    {
     "data": {
      "image/png": "[encoded data removed]",
      "text/plain": [
       "<Figure size 576x576 with 4 Axes>"
      ]
     },
     "execution_count": 46,
     "metadata": {},
     "output_type": "execute_result"
    }
   ],
   "source": [
    "def plot_segments_faceted(bins=4, rev_col=None):\n",
    "    print \"rev_col: %s\" % rev_col\n",
    "    bin_size = round(169 / bins)\n",
    "    floor = 0\n",
    "    rows = int(np.sqrt(bins))\n",
    "    cols = bins / rows\n",
    "    if (rows * cols < bins): rows += 1\n",
    "    #print (rows, cols)\n",
    "\n",
    "    fig, axs = plt.subplots(rows, cols,sharex=True,figsize=(rows * 4, cols * 4))\n",
    "    \n",
    "    i = 0\n",
    "    row = 0\n",
    "    col = 0\n",
    "    \n",
    "    while floor <= 169:\n",
    "        #print (row, col)\n",
    "        floor = max(1, floor)\n",
    "        ceil = min(169, floor + bin_size)\n",
    "        plot_segment(floor, ceil, axs[row][col], rev_col=rev_col)\n",
    "        floor += bin_size + 1\n",
    "        #fig.append(plt.gcf())\n",
    "        plt.close()\n",
    "        i += 1\n",
    "        col += 1\n",
    "        if col > cols - 1:\n",
    "            col = 0\n",
    "            row += 1\n",
    "    \n",
    "    return fig\n",
    "    \n",
    "fig = plot_segments_faceted(4)\n",
    "fig.suptitle(\"ECS + Arra per student by wealth rank\")\n",
    "fig.savefig(\"figures/grant-payments-per-student.png\")\n",
    "fig"
   ]
  },
  {
   "cell_type": "code",
   "execution_count": 47,
   "metadata": {},
   "outputs": [],
   "source": [
    "#plot_segments_faceted(9)"
   ]
  },
  {
   "cell_type": "code",
   "execution_count": 48,
   "metadata": {},
   "outputs": [
    {
     "name": "stdout",
     "output_type": "stream",
     "text": [
      "rev_col: Inter_Gov_Rev\n",
      "REV_COL Inter_Gov_Rev\n",
      "REV_COL Inter_Gov_Rev\n",
      "REV_COL Inter_Gov_Rev\n",
      "REV_COL Inter_Gov_Rev\n"
     ]
    },
    {
     "data": {
      "image/png": "[encoded data removed]",
      "text/plain": [
       "<Figure size 576x576 with 4 Axes>"
      ]
     },
     "execution_count": 48,
     "metadata": {},
     "output_type": "execute_result"
    }
   ],
   "source": [
    "fig = plot_segments_faceted(4, rev_col=\"Inter_Gov_Rev\")\n",
    "fig.suptitle(\"Intergov rev per student by wealth rank\")\n",
    "fig.savefig(\"figures/intergov-rev-per-student.png\")\n",
    "fig"
   ]
  },
  {
   "cell_type": "code",
   "execution_count": null,
   "metadata": {},
   "outputs": [],
   "source": []
  },
  {
   "cell_type": "code",
   "execution_count": null,
   "metadata": {},
   "outputs": [],
   "source": []
  },
  {
   "cell_type": "code",
   "execution_count": null,
   "metadata": {},
   "outputs": [],
   "source": []
  },
  {
   "cell_type": "code",
   "execution_count": null,
   "metadata": {},
   "outputs": [],
   "source": []
  },
  {
   "cell_type": "code",
   "execution_count": null,
   "metadata": {},
   "outputs": [],
   "source": []
  },
  {
   "cell_type": "code",
   "execution_count": null,
   "metadata": {},
   "outputs": [],
   "source": []
  }
 ],
 "metadata": {
  "kernelspec": {
   "display_name": "Python 2",
   "language": "python",
   "name": "python2"
  },
  "language_info": {
   "codemirror_mode": {
    "name": "ipython",
    "version": 2
   },
   "file_extension": ".py",
   "mimetype": "text/x-python",
   "name": "python",
   "nbconvert_exporter": "python",
   "pygments_lexer": "ipython2",
   "version": "2.7.10"
  }
 },
 "nbformat": 4,
 "nbformat_minor": 2
}
