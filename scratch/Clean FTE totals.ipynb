{
 "cells": [
  {
   "cell_type": "code",
   "execution_count": 1,
   "metadata": {},
   "outputs": [],
   "source": [
    "import pandas as pd\n",
    "from helpers import column_is_constant"
   ]
  },
  {
   "cell_type": "code",
   "execution_count": 2,
   "metadata": {},
   "outputs": [
    {
     "data": {
      "text/html": [
       "<div>\n",
       "<style scoped>\n",
       "    .dataframe tbody tr th:only-of-type {\n",
       "        vertical-align: middle;\n",
       "    }\n",
       "\n",
       "    .dataframe tbody tr th {\n",
       "        vertical-align: top;\n",
       "    }\n",
       "\n",
       "    .dataframe thead th {\n",
       "        text-align: right;\n",
       "    }\n",
       "</style>\n",
       "<table border=\"1\" class=\"dataframe\">\n",
       "  <thead>\n",
       "    <tr style=\"text-align: right;\">\n",
       "      <th></th>\n",
       "      <th>City</th>\n",
       "      <th>report_year</th>\n",
       "      <th>index</th>\n",
       "      <th>Assignment Category</th>\n",
       "      <th>Educator Type</th>\n",
       "      <th>FTE Count</th>\n",
       "      <th>OrganizationCode</th>\n",
       "      <th>OrganizationType</th>\n",
       "      <th>Education spending</th>\n",
       "      <th>Enrollment</th>\n",
       "    </tr>\n",
       "  </thead>\n",
       "  <tbody>\n",
       "    <tr>\n",
       "      <th>0</th>\n",
       "      <td>NEW HAVEN</td>\n",
       "      <td>2009</td>\n",
       "      <td>Achievement First Hartford Academy Inc. District</td>\n",
       "      <td>Administrators  Coordinators and Department Ch...</td>\n",
       "      <td>Certified</td>\n",
       "      <td>6.0</td>\n",
       "      <td>2880013</td>\n",
       "      <td>Public Charter School Districts</td>\n",
       "      <td>192024547.0</td>\n",
       "      <td>18074.31</td>\n",
       "    </tr>\n",
       "    <tr>\n",
       "      <th>1</th>\n",
       "      <td>NEW HAVEN</td>\n",
       "      <td>2009</td>\n",
       "      <td>Achievement First Hartford Academy Inc. District</td>\n",
       "      <td>General Education - Teachers and Instructors</td>\n",
       "      <td>Certified</td>\n",
       "      <td>20.0</td>\n",
       "      <td>2880013</td>\n",
       "      <td>Public Charter School Districts</td>\n",
       "      <td>192024547.0</td>\n",
       "      <td>18074.31</td>\n",
       "    </tr>\n",
       "    <tr>\n",
       "      <th>2</th>\n",
       "      <td>NEW HAVEN</td>\n",
       "      <td>2009</td>\n",
       "      <td>Achievement First Hartford Academy Inc. District</td>\n",
       "      <td>General Education - Paraprofessional Instructi...</td>\n",
       "      <td>Non-Certified</td>\n",
       "      <td>0.0</td>\n",
       "      <td>2880013</td>\n",
       "      <td>Public Charter School Districts</td>\n",
       "      <td>192024547.0</td>\n",
       "      <td>18074.31</td>\n",
       "    </tr>\n",
       "    <tr>\n",
       "      <th>3</th>\n",
       "      <td>NEW HAVEN</td>\n",
       "      <td>2009</td>\n",
       "      <td>Achievement First Hartford Academy Inc. District</td>\n",
       "      <td>Library/Media - Support Staff</td>\n",
       "      <td>Non-Certified</td>\n",
       "      <td>0.0</td>\n",
       "      <td>2880013</td>\n",
       "      <td>Public Charter School Districts</td>\n",
       "      <td>192024547.0</td>\n",
       "      <td>18074.31</td>\n",
       "    </tr>\n",
       "    <tr>\n",
       "      <th>4</th>\n",
       "      <td>NEW HAVEN</td>\n",
       "      <td>2009</td>\n",
       "      <td>Achievement First Hartford Academy Inc. District</td>\n",
       "      <td>School Nurses</td>\n",
       "      <td>Non-Certified</td>\n",
       "      <td>0.5</td>\n",
       "      <td>2880013</td>\n",
       "      <td>Public Charter School Districts</td>\n",
       "      <td>192024547.0</td>\n",
       "      <td>18074.31</td>\n",
       "    </tr>\n",
       "  </tbody>\n",
       "</table>\n",
       "</div>"
      ],
      "text/plain": [
       "        City  report_year                                             index  \\\n",
       "0  NEW HAVEN         2009  Achievement First Hartford Academy Inc. District   \n",
       "1  NEW HAVEN         2009  Achievement First Hartford Academy Inc. District   \n",
       "2  NEW HAVEN         2009  Achievement First Hartford Academy Inc. District   \n",
       "3  NEW HAVEN         2009  Achievement First Hartford Academy Inc. District   \n",
       "4  NEW HAVEN         2009  Achievement First Hartford Academy Inc. District   \n",
       "\n",
       "                                 Assignment Category  Educator Type  \\\n",
       "0  Administrators  Coordinators and Department Ch...      Certified   \n",
       "1       General Education - Teachers and Instructors      Certified   \n",
       "2  General Education - Paraprofessional Instructi...  Non-Certified   \n",
       "3                      Library/Media - Support Staff  Non-Certified   \n",
       "4                                      School Nurses  Non-Certified   \n",
       "\n",
       "   FTE Count  OrganizationCode                 OrganizationType  \\\n",
       "0        6.0           2880013  Public Charter School Districts   \n",
       "1       20.0           2880013  Public Charter School Districts   \n",
       "2        0.0           2880013  Public Charter School Districts   \n",
       "3        0.0           2880013  Public Charter School Districts   \n",
       "4        0.5           2880013  Public Charter School Districts   \n",
       "\n",
       "   Education spending  Enrollment  \n",
       "0         192024547.0    18074.31  \n",
       "1         192024547.0    18074.31  \n",
       "2         192024547.0    18074.31  \n",
       "3         192024547.0    18074.31  \n",
       "4         192024547.0    18074.31  "
      ]
     },
     "execution_count": 2,
     "metadata": {},
     "output_type": "execute_result"
    }
   ],
   "source": [
    "staffing = pd.read_csv(\"output/staffing-with-fiscal.csv\")\n",
    "staffing.head()"
   ]
  },
  {
   "cell_type": "code",
   "execution_count": 3,
   "metadata": {},
   "outputs": [],
   "source": [
    "pubs = staffing[staffing[\"OrganizationType\"] == \"Public School Districts\"]"
   ]
  },
  {
   "cell_type": "code",
   "execution_count": 4,
   "metadata": {},
   "outputs": [
    {
     "name": "stdout",
     "output_type": "stream",
     "text": [
      "OrganizationCode\tDEEP RIVER\n",
      "OrganizationCode\tEASTON\n",
      "index\tDEEP RIVER\n",
      "index\tEASTON\n"
     ]
    }
   ],
   "source": [
    "def check_all_columns_are_constant(df,\n",
    "                                   cols=[\n",
    "                                       \"OrganizationType\",\n",
    "                                       \"OrganizationCode\",\n",
    "                                       \"index\"\n",
    "                                   ]):\n",
    "    tmpdf = df.copy()\n",
    "    \n",
    "    for col in cols:\n",
    "        for c in tmpdf[\"City\"].unique():\n",
    "            if not column_is_constant(tmpdf.set_index([\"City\",\"report_year\"]).loc[c][col]):\n",
    "                print (\"%s\\t%s\"%(col,c) )\n",
    "check_all_columns_are_constant(pubs)"
   ]
  },
  {
   "cell_type": "code",
   "execution_count": 7,
   "metadata": {},
   "outputs": [
    {
     "name": "stdout",
     "output_type": "stream",
     "text": [
      "10\n",
      "nan\n"
     ]
    }
   ],
   "source": [
    "import numpy as np\n",
    "def test_sum(series):\n",
    "    \n",
    "    return reduce(lambda x, y: x + y, series)\n",
    "\n",
    "print test_sum([1,2,3,4])\n",
    "print test_sum([1,2,3,np.nan])\n",
    "test_sum_df = pubs.groupby([\"City\",\"report_year\"]).agg({'Education spending': ['sum', test_sum]})\n",
    "#print \"Columns match: %d\" % test_sum_df[test_sum_df[(\"Education spending\",\"sum\")] != test_sum_df[(\"Education spending\",\"test_sum\")]]\n"
   ]
  },
  {
   "cell_type": "code",
   "execution_count": null,
   "metadata": {},
   "outputs": [],
   "source": [
    "print \"Some FTE counts are zero\"\n",
    "pubs[pubs[\"FTE Count\"] == 0]"
   ]
  },
  {
   "cell_type": "code",
   "execution_count": null,
   "metadata": {},
   "outputs": [],
   "source": [
    "print \"Some categories are null\"\n",
    "print \"Somet of these nulls are legit and others aren't\"\n",
    "find_nulls = pd.pivot_table(pubs,\n",
    "               index=[\"City\",\"report_year\"],\n",
    "               values=\"FTE Count\",\n",
    "               columns=[\"Assignment Category\",\n",
    "                        \"Educator Type\"])\n",
    "any_nulls = find_nulls[find_nulls.isnull().any(axis=1)]\\\n",
    "\n",
    "any_nulls.to_csv(\"output/any-nulls.csv\")\n",
    "\n",
    "any_nulls.head()"
   ]
  },
  {
   "cell_type": "code",
   "execution_count": null,
   "metadata": {},
   "outputs": [],
   "source": [
    "print \"All cities with aany nulls\"\n",
    "any_nulls.reset_index()[\"City\"].unique()"
   ]
  },
  {
   "cell_type": "code",
   "execution_count": null,
   "metadata": {},
   "outputs": [],
   "source": [
    "any_nulls"
   ]
  },
  {
   "cell_type": "code",
   "execution_count": null,
   "metadata": {},
   "outputs": [],
   "source": [
    "print \"The only category without any nulls in gen ed teacers\"\n",
    "find_nulls.dropna(axis=1).head()"
   ]
  },
  {
   "cell_type": "code",
   "execution_count": null,
   "metadata": {},
   "outputs": [],
   "source": [
    "# Get totals\n",
    "print \"Keep in mind, some of these have nulls. Check those before reaching any conclusions\"\n",
    "fte_totals = pubs.groupby([\"City\",\"report_year\"]).agg(\n",
    "    {\"FTE Count\":sum,\n",
    "     \"Education spending\":max,\n",
    "     \"Enrollment\":max\n",
    "})\n",
    "\n",
    "#fte_totals.to_csv(\"output/total-fte.csv\")\n",
    "\n",
    "# Add true false if the index has nulls\n",
    "fte_totals.head()"
   ]
  },
  {
   "cell_type": "code",
   "execution_count": null,
   "metadata": {},
   "outputs": [],
   "source": [
    "def has_nulls((city,year)):\n",
    "    return (city, year) in any_nulls.index\n",
    "\n",
    "print has_nulls((\"Norwalk\", 2010))\n",
    "print has_nulls((\"NORWALK\", 2010))"
   ]
  },
  {
   "cell_type": "code",
   "execution_count": null,
   "metadata": {},
   "outputs": [],
   "source": [
    "fte_totals[\"has_nulls\"] = fte_totals.index.map(has_nulls)\n",
    "len(fte_totals)"
   ]
  },
  {
   "cell_type": "code",
   "execution_count": null,
   "metadata": {},
   "outputs": [],
   "source": [
    "len(fte_totals[fte_totals[\"has_nulls\"]])"
   ]
  },
  {
   "cell_type": "code",
   "execution_count": null,
   "metadata": {},
   "outputs": [],
   "source": [
    "len(fte_totals[fte_totals[\"has_nulls\"] == False ])"
   ]
  },
  {
   "cell_type": "code",
   "execution_count": null,
   "metadata": {},
   "outputs": [],
   "source": [
    "fte_totals.to_csv(\"output/total-fte.csv\")"
   ]
  },
  {
   "cell_type": "code",
   "execution_count": null,
   "metadata": {},
   "outputs": [],
   "source": []
  }
 ],
 "metadata": {
  "kernelspec": {
   "display_name": "Python 2",
   "language": "python",
   "name": "python2"
  },
  "language_info": {
   "codemirror_mode": {
    "name": "ipython",
    "version": 2
   },
   "file_extension": ".py",
   "mimetype": "text/x-python",
   "name": "python",
   "nbconvert_exporter": "python",
   "pygments_lexer": "ipython2",
   "version": "2.7.10"
  }
 },
 "nbformat": 4,
 "nbformat_minor": 2
}
