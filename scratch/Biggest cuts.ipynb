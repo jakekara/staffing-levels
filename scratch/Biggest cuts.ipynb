{
 "cells": [
  {
   "cell_type": "markdown",
   "metadata": {},
   "source": [
    "# When districts face deep state grant cuts, does it affect staffing?\n",
    "\n",
    "The question is harder than it seems. We need to quantify cuts in a way that's adjusted both for changes in enrollment and the district's \"sensitivity\" to state cuts.\n",
    "\n",
    "If we don't weight it, the biggest dollar cuts are going to be in the poor city districts that get huge grants, and the biggest percent cuts are going to be in the wealthy districts where the overall state funding is tiny in proportion to the budget.\n",
    "\n",
    "\n",
    "# Stage 1: Create the spreadsheet\n",
    "\n",
    "So, first we're going to create a table that contains each district's annual spending, enrollment and state grant funding levels, as well as the change."
   ]
  },
  {
   "cell_type": "code",
   "execution_count": null,
   "metadata": {},
   "outputs": [],
   "source": []
  },
  {
   "cell_type": "code",
   "execution_count": null,
   "metadata": {},
   "outputs": [],
   "source": []
  },
  {
   "cell_type": "code",
   "execution_count": null,
   "metadata": {},
   "outputs": [],
   "source": []
  }
 ],
 "metadata": {
  "kernelspec": {
   "display_name": "Python 2",
   "language": "python",
   "name": "python2"
  },
  "language_info": {
   "codemirror_mode": {
    "name": "ipython",
    "version": 2
   },
   "file_extension": ".py",
   "mimetype": "text/x-python",
   "name": "python",
   "nbconvert_exporter": "python",
   "pygments_lexer": "ipython2",
   "version": "2.7.10"
  }
 },
 "nbformat": 4,
 "nbformat_minor": 2
}
